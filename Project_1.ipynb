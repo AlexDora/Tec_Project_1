{
 "cells": [
  {
   "cell_type": "code",
   "execution_count": 9,
   "metadata": {},
   "outputs": [],
   "source": [
    "import matplotlib.pyplot as plt\n",
    "import pandas as pd\n",
    "import numpy as np\n",
    "import requests\n",
    "import time\n",
    "import json\n",
    "import datetime\n",
    "\n",
    "from api_keys import api_key\n",
    "\n",
    "url = f\"https://api.nal.usda.gov/ndb/reports/?\"\n",
    "\n",
    "\n"
   ]
  },
  {
   "cell_type": "raw",
   "metadata": {},
   "source": [
    "Nut_Req_Atnow=[]\n",
    "Nut_Minimum_Req=[]\n",
    "Nut_Ideal_Req=[]\n",
    "IMC_Now=[]\n",
    "Ideal_Weight=[]\n",
    "\n",
    "user_dict = {\n",
    "    \"First_Name\":'',\n",
    "    \"Last_Name\": '',\n",
    "    \"Age\":'',\n",
    "    \"Sex\":'',\n",
    "    \"Weight_in_Kilograms\":'',\n",
    "    \"Height_in_meters\":''\n",
    "    }\n",
    "\n",
    "\n",
    "\n",
    "for key in user_dict:\n",
    "    user_dict[key] = str(input(f\"Please type your {key} \"))\n",
    "\n",
    "activitie = str(input(f\"Please type your type of activitie you have: Sedentary (S), Low Active (L), Active (A) or Very Active (V) \"))\n",
    "    \n",
    "\n"
   ]
  },
  {
   "cell_type": "code",
   "execution_count": 41,
   "metadata": {},
   "outputs": [
    {
     "name": "stdout",
     "output_type": "stream",
     "text": [
      "2594.38 Kcal\n"
     ]
    }
   ],
   "source": [
    "PA_Men=1\n",
    "PA_Women=1\n",
    "\n",
    "EER_Men= float(662) - (9.53 * float(user_dict[\"Age\"]))+ float(PA_Men) *((15.91*float(user_dict[\"Weight_in_Kilograms\"])) + (539.6*float(user_dict[\"Height_in_meters\"]))) \n",
    "EER_Women= float(354) - (6.91 * float(user_dict[\"Age\"]))+ float(PA_Men) *((9.36*float(user_dict[\"Weight_in_Kilograms\"])) + (float(726)*float(user_dict[\"Height_in_meters\"])))\n",
    "\n",
    "if user_dict[\"Sex\"] == \"Men\":\n",
    "    Nut_Req_Atnow = round(EER_Men,2)\n",
    "else:\n",
    "    Nut_Req_Atnow = round(EER_Women,2)\n",
    "    \n",
    "\n",
    "print(f\"{Nut_Req_Atnow} Kcal\")\n"
   ]
  },
  {
   "cell_type": "code",
   "execution_count": null,
   "metadata": {},
   "outputs": [],
   "source": []
  }
 ],
 "metadata": {
  "kernelspec": {
   "display_name": "Python 3",
   "language": "python",
   "name": "python3"
  },
  "language_info": {
   "codemirror_mode": {
    "name": "ipython",
    "version": 3
   },
   "file_extension": ".py",
   "mimetype": "text/x-python",
   "name": "python",
   "nbconvert_exporter": "python",
   "pygments_lexer": "ipython3",
   "version": "3.6.5"
  }
 },
 "nbformat": 4,
 "nbformat_minor": 2
}
