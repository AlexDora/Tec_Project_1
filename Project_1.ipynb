{
 "cells": [
  {
   "cell_type": "code",
   "execution_count": 195,
   "metadata": {},
   "outputs": [],
   "source": [
    "import matplotlib.pyplot as plt\n",
    "import pandas as pd\n",
    "import numpy as np\n",
    "import requests\n",
    "import time\n",
    "import json\n",
    "import datetime\n",
    "\n",
    "from api_keys import api_key\n",
    "\n",
    "url = f\"https://api.nal.usda.gov/ndb/reports/?\"\n",
    "\n",
    "\n"
   ]
  },
  {
   "cell_type": "code",
   "execution_count": 196,
   "metadata": {},
   "outputs": [
    {
     "name": "stdout",
     "output_type": "stream",
     "text": [
      "Please type your First_Name Paulina\n",
      "Please type your Last_Name Martinez\n",
      "Please type your Age 30\n",
      "Please type your Sex Women\n",
      "Please type your Weight_in_Kilograms 62\n",
      "Please type your Height_in_meters 1.62\n",
      "Please type your type of activitie you have: Sedentary (S), Low Active (L), Active (A) or Very Active (V) S\n",
      "Please type if you are pregnant Yes(Y)/ No(N) (Only the letter) N\n",
      "Please type if you are in lactation Yes(Y)/ No(N) (Only the letter)N\n"
     ]
    }
   ],
   "source": [
    "#Creación del formulario para el usuario\n",
    "\n",
    "user_dict = {\n",
    "    \"First_Name\":'',\n",
    "    \"Last_Name\": '',\n",
    "    \"Age\":'',\n",
    "    \"Sex\":'',\n",
    "    \"Weight_in_Kilograms\":'',\n",
    "    \"Height_in_meters\":''\n",
    "    }\n",
    "\n",
    "\n",
    "\n",
    "for key in user_dict:\n",
    "    user_dict[key] = str(input(f\"Please type your {key} \"))\n",
    "\n",
    "activitie = str(input(f\"Please type your type of activitie you have: Sedentary (S), Low Active (L), Active (A) or Very Active (V) \"))\n",
    "\n",
    "if user_dict[\"Sex\"] == \"Women\":\n",
    "    pregnant_q = str(input(f\"Please type if you are pregnant Yes(Y)/ No(N) (Only the letter) \"))\n",
    "else:\n",
    "    pregnant_q = \"N/A\"\n",
    "\n",
    "if pregnant_q == \"Y\":\n",
    "    pregnant_a = int(input(f\"In wich trimester of pregnancy are you (Only the number) ? \"))\n",
    "else:\n",
    "    pregnant_a = \"N/A\"\n",
    "    \n",
    "if user_dict[\"Sex\"] == \"Women\":\n",
    "    lactation_q = str(input(f\"Please type if you are in lactation Yes(Y)/ No(N) (Only the letter)\"))\n",
    "else:\n",
    "    lactation_q = \"N/A\"\n",
    "\n",
    "if lactation_q == \"Y\":\n",
    "    lactation_a = int(input(f\"Please type if you are inside the 1st or 2nd Semester of lactation (Only put the number) \"))\n",
    "else:\n",
    "    lactation_a = \"N/A\"\n",
    "\n"
   ]
  },
  {
   "cell_type": "code",
   "execution_count": 197,
   "metadata": {},
   "outputs": [
    {
     "name": "stdout",
     "output_type": "stream",
     "text": [
      "23.62\n",
      "62.0\n",
      "0.0\n"
     ]
    }
   ],
   "source": [
    "#Cálculo del IMC actual y el ideal.\n",
    "\n",
    "IMC_actual = round(float(user_dict[\"Weight_in_Kilograms\"])/(float(user_dict[\"Height_in_meters\"])**2),2)\n",
    "\n",
    "if (IMC_actual < 24.9 and IMC_actual > 18.5):\n",
    "    IMC_ideal = IMC_actual    \n",
    "if IMC_actual > 24.9:\n",
    "    IMC_ideal = 24.5\n",
    "if IMC_actual < 18.5:\n",
    "    IMC_ideal = 19\n",
    "    \n",
    "Ideal_Weight = round(IMC_ideal * (float(user_dict[\"Height_in_meters\"])**2),1)\n",
    "\n",
    "Variance_Weight = round(float(user_dict[\"Weight_in_Kilograms\"]) - float(Ideal_Weight),1)\n",
    "\n",
    "print(IMC_actual)\n",
    "print(Ideal_Weight)\n",
    "print(Variance_Weight)"
   ]
  },
  {
   "cell_type": "code",
   "execution_count": 198,
   "metadata": {},
   "outputs": [
    {
     "name": "stdout",
     "output_type": "stream",
     "text": [
      "1903.14 Kcal\n"
     ]
    }
   ],
   "source": [
    "#Cálculo de la actividad física, para la fórmula de EER\n",
    "\n",
    "if user_dict[\"Sex\"] == \"Men\":\n",
    "    if activitie == \"S\":\n",
    "        P_Activitie = 1\n",
    "    elif activitie == \"L\":\n",
    "        P_Activitie = 1.11\n",
    "    elif activitie == \"A\":\n",
    "        P_Activitie = 1.25\n",
    "    elif activitie == \"V\":\n",
    "        P_Activitie = 1.48\n",
    "else:\n",
    "    if activitie == \"S\":\n",
    "        P_Activitie = 1\n",
    "    elif activitie == \"L\":\n",
    "        P_Activitie = 1.12\n",
    "    elif activitie == \"A\":\n",
    "        P_Activitie = 1.27\n",
    "    elif activitie == \"V\":\n",
    "        P_Activitie = 1.45\n",
    "\n",
    "\n",
    "#Cálculo del requerimiento de energía diario de una persona.\n",
    "\n",
    "EER_Men= float(662) - (9.53 * float(user_dict[\"Age\"]))+ float(P_Activitie) *((15.91*float(Ideal_Weight)) + (539.6*float(user_dict[\"Height_in_meters\"]))) \n",
    "EER_Women= float(354) - (6.91 * float(user_dict[\"Age\"]))+ float(P_Activitie) *((9.36*float(Ideal_Weight)) + (float(726)*float(user_dict[\"Height_in_meters\"])))\n",
    "\n",
    "    \n",
    "if user_dict[\"Sex\"] == \"Men\":\n",
    "    Nut_Req_Atnow = round(EER_Men,2)\n",
    "else:\n",
    "    Nut_Req_Atnow = round(EER_Women,2)\n",
    "    if pregnant_q == \"Y\":\n",
    "        if pregnant_a == 1:\n",
    "            Nut_Req_Atnow = Nut_Req_Atnow\n",
    "        if pregnant_a == 2:\n",
    "            Nut_Req_Atnow = Nut_Req_Atnow + 340\n",
    "        if pregnant_a == 3:\n",
    "            Nut_Req_Atnow = Nut_Req_Atnow + 452\n",
    "    if lactation_q == \"Y\":\n",
    "        if lactation_a == 1:\n",
    "            Nut_Req_Atnow = Nut_Req_Atnow + 600 - 170\n",
    "        if lactation_a == 2:\n",
    "            Nut_Req_Atnow = Nut_Req_Atnow + 400\n",
    "            \n",
    "\n",
    "print(f\"{Nut_Req_Atnow} Kcal\")\n"
   ]
  },
  {
   "cell_type": "code",
   "execution_count": 199,
   "metadata": {},
   "outputs": [
    {
     "name": "stdout",
     "output_type": "stream",
     "text": [
      "951.57\n",
      "570.94\n",
      "380.63\n"
     ]
    }
   ],
   "source": [
    "#Distribución de la energía en carbohidratos, grasas y proteina\n",
    "\n",
    "Carb_Dist_kcal= round(Nut_Req_Atnow * .50,2)\n",
    "Fat_Dist_kcal= round(Nut_Req_Atnow * .3,2)\n",
    "Protein_Dist_kcal = round(Nut_Req_Atnow * .2,2)\n",
    "\n",
    "print(Carb_Dist_kcal)\n",
    "print(Fat_Dist_kcal)\n",
    "print(Protein_Dist_kcal)"
   ]
  },
  {
   "cell_type": "code",
   "execution_count": 200,
   "metadata": {},
   "outputs": [
    {
     "name": "stdout",
     "output_type": "stream",
     "text": [
      "237.89\n",
      "63.44\n",
      "95.16\n"
     ]
    }
   ],
   "source": [
    "#Conversión de Kcal a gramos\n",
    "\n",
    "Carb_Dist_gr= round(Carb_Dist_kcal / float(4),2)\n",
    "Fat_Dist_gr= round(Fat_Dist_kcal / float(9),2)\n",
    "Protein_Dist_gr = round(Protein_Dist_kcal / float(4),2)\n",
    "\n",
    "print(Carb_Dist_gr)\n",
    "print(Fat_Dist_gr)\n",
    "print(Protein_Dist_gr)"
   ]
  },
  {
   "cell_type": "code",
   "execution_count": 201,
   "metadata": {},
   "outputs": [
    {
     "data": {
      "text/html": [
       "<div>\n",
       "<style scoped>\n",
       "    .dataframe tbody tr th:only-of-type {\n",
       "        vertical-align: middle;\n",
       "    }\n",
       "\n",
       "    .dataframe tbody tr th {\n",
       "        vertical-align: top;\n",
       "    }\n",
       "\n",
       "    .dataframe thead th {\n",
       "        text-align: right;\n",
       "    }\n",
       "</style>\n",
       "<table border=\"1\" class=\"dataframe\">\n",
       "  <thead>\n",
       "    <tr style=\"text-align: right;\">\n",
       "      <th></th>\n",
       "      <th>Name</th>\n",
       "      <th>Last Name</th>\n",
       "      <th>Age</th>\n",
       "      <th>Sex</th>\n",
       "      <th>Weight (Kg)</th>\n",
       "      <th>Height (m)</th>\n",
       "      <th>Pregnant</th>\n",
       "      <th>Pregnancy Trimester</th>\n",
       "      <th>Lactation</th>\n",
       "      <th>Lactation Semester</th>\n",
       "      <th>Actual IMC</th>\n",
       "      <th>Ideal IMC</th>\n",
       "      <th>Ideal Weight(Kg)</th>\n",
       "      <th>Physical Activitie</th>\n",
       "      <th>Energy Requirement (kcal)</th>\n",
       "      <th>Carbohydrates Req (kcal)</th>\n",
       "      <th>Fat Req (kcal)</th>\n",
       "      <th>Protein Req (kcal)</th>\n",
       "      <th>Carbohydrates Req (gr)</th>\n",
       "      <th>Fat Req (gr)</th>\n",
       "      <th>Protein Req (gr)</th>\n",
       "    </tr>\n",
       "  </thead>\n",
       "  <tbody>\n",
       "    <tr>\n",
       "      <th>0</th>\n",
       "      <td>Paulina</td>\n",
       "      <td>Martinez</td>\n",
       "      <td>30</td>\n",
       "      <td>Women</td>\n",
       "      <td>62</td>\n",
       "      <td>1.62</td>\n",
       "      <td>N</td>\n",
       "      <td>N/A</td>\n",
       "      <td>N</td>\n",
       "      <td>N/A</td>\n",
       "      <td>23.62</td>\n",
       "      <td>23.62</td>\n",
       "      <td>62.0</td>\n",
       "      <td>S</td>\n",
       "      <td>1903.14</td>\n",
       "      <td>951.57</td>\n",
       "      <td>570.94</td>\n",
       "      <td>380.63</td>\n",
       "      <td>237.89</td>\n",
       "      <td>63.44</td>\n",
       "      <td>95.16</td>\n",
       "    </tr>\n",
       "  </tbody>\n",
       "</table>\n",
       "</div>"
      ],
      "text/plain": [
       "      Name Last Name Age    Sex Weight (Kg) Height (m) Pregnant  \\\n",
       "0  Paulina  Martinez  30  Women          62       1.62        N   \n",
       "\n",
       "  Pregnancy Trimester Lactation Lactation Semester  Actual IMC  Ideal IMC  \\\n",
       "0                 N/A         N                N/A       23.62      23.62   \n",
       "\n",
       "   Ideal Weight(Kg) Physical Activitie  Energy Requirement (kcal)  \\\n",
       "0              62.0                  S                    1903.14   \n",
       "\n",
       "   Carbohydrates Req (kcal)  Fat Req (kcal)  Protein Req (kcal)  \\\n",
       "0                    951.57          570.94              380.63   \n",
       "\n",
       "   Carbohydrates Req (gr)  Fat Req (gr)  Protein Req (gr)  \n",
       "0                  237.89         63.44             95.16  "
      ]
     },
     "execution_count": 201,
     "metadata": {},
     "output_type": "execute_result"
    }
   ],
   "source": [
    "\n",
    "\n",
    "User_Information=pd.DataFrame({\"Name\": user_dict[\"First_Name\"],\n",
    "                              \"Last Name\": user_dict[\"Last_Name\"],\n",
    "                               \"Age\": user_dict[\"Age\"],\n",
    "                               \"Sex\": user_dict[\"Sex\"],\n",
    "                               \"Weight (Kg)\": user_dict[\"Weight_in_Kilograms\"],\n",
    "                               \"Height (m)\": user_dict[\"Height_in_meters\"],\n",
    "                               \"Pregnant\": pregnant_q,\n",
    "                               \"Pregnancy Trimester\": pregnant_a,\n",
    "                               \"Lactation\": lactation_q,\n",
    "                               \"Lactation Semester\": lactation_a,\n",
    "                               \"Actual IMC\": IMC_actual,\n",
    "                               \"Ideal IMC\": IMC_ideal,\n",
    "                               \"Ideal Weight(Kg)\": Ideal_Weight,\n",
    "                               \"Physical Activitie\": activitie,\n",
    "                               \"Energy Requirement (kcal)\": Nut_Req_Atnow,\n",
    "                               \"Carbohydrates Req (kcal)\": Carb_Dist_kcal,\n",
    "                               \"Fat Req (kcal)\": Fat_Dist_kcal,\n",
    "                               \"Protein Req (kcal)\": Protein_Dist_kcal,\n",
    "                               \"Carbohydrates Req (gr)\": Carb_Dist_gr,\n",
    "                               \"Fat Req (gr)\": Fat_Dist_gr,\n",
    "                               \"Protein Req (gr)\": Protein_Dist_gr\n",
    "                              }, index=[0])\n",
    "\n",
    "pd.options.display.max_columns=21\n",
    "\n",
    "\n",
    "User_Information"
   ]
  },
  {
   "cell_type": "code",
   "execution_count": null,
   "metadata": {},
   "outputs": [],
   "source": []
  }
 ],
 "metadata": {
  "kernelspec": {
   "display_name": "Python 3",
   "language": "python",
   "name": "python3"
  },
  "language_info": {
   "codemirror_mode": {
    "name": "ipython",
    "version": 3
   },
   "file_extension": ".py",
   "mimetype": "text/x-python",
   "name": "python",
   "nbconvert_exporter": "python",
   "pygments_lexer": "ipython3",
   "version": "3.6.5"
  }
 },
 "nbformat": 4,
 "nbformat_minor": 2
}
